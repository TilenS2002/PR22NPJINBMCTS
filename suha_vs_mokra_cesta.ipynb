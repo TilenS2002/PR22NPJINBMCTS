{
 "cells": [
  {
   "cell_type": "code",
   "execution_count": 86,
   "id": "64a58a18",
   "metadata": {},
   "outputs": [
    {
     "name": "stdout",
     "output_type": "stream",
     "text": [
      "STOJI: 7158\n",
      "SUHA: 22534\n",
      "MOKRA: 6749\n",
      "\n",
      "STOJI & SUHA: 5444 \n",
      "STOJI & MOKRA: 1714\n",
      "\n",
      "Karambolov v stacionarne objekte (npr. parkiran avto, stavba, itd.) na mokri cesti je bilo 4.9936% več kot karambolov v stacionarne objekte na suhi cesti.\n"
     ]
    }
   ],
   "source": [
    "import pandas as pd\n",
    "\n",
    "faktor_cest = pd.read_csv('./baze/manjse/FaktorCest.csv')\n",
    "nesreca = pd.read_csv('./baze/manjse/Nesreca.csv')\n",
    "\n",
    "\n",
    "merged_df = pd.merge(faktor_cest, nesreca[['ZaporednaStevilkaOsebeVPN', 'TipNesrece']], on='ZaporednaStevilkaOsebeVPN')\n",
    "\n",
    "final_df = merged_df[['StanjeVozisca', 'TipNesrece']]\n",
    "\n",
    "# odstrani vozisca in tipe nesrec v neznanem stanju\n",
    "final_df = final_df.loc[final_df['StanjeVozisca'] != 'OSTALO']\n",
    "final_df = final_df.loc[final_df['TipNesrece'] != 'OSTALO']\n",
    "\n",
    "# print(\"Unique values in StanjeVozisca:\", final_df['StanjeVozisca'].unique())\n",
    "# print(\"\\nUnique values in TipNesrece:\", final_df['TipNesrece'].unique())\n",
    "\n",
    "\n",
    "new_df = final_df.copy()\n",
    "\n",
    "# obdrži vrstice s StanjeVozisca = SUHO, ostale pa preimenuj z DRUGACNO\n",
    "new_df.loc[new_df['StanjeVozisca'] != 'SUHO', 'StanjeVozisca'] = 'DRUGACNO'\n",
    "# print(\"Unique values in StanjeVozisca:\", new_df['StanjeVozisca'].unique())\n",
    "\n",
    "\n",
    "new_df['TipNesrece_new'] = 'SE PREMIKA'\n",
    "\n",
    "mask = (new_df['TipNesrece'] == 'TRČENJE V STOJEČE / PARKIRANO VOZILO') | (new_df['TipNesrece'] == 'TRČENJE V OBJEKT')\n",
    "new_df.loc[mask, 'TipNesrece_new'] = 'STACIONAREN'\n",
    "\n",
    "mask = (new_df['TipNesrece'] == 'BOČNO TRČENJE') | (new_df['TipNesrece'] == 'OPLAŽENJE') | (new_df['TipNesrece'] == 'NALETNO TRČENJE') | (new_df['TipNesrece'] == 'POVOŽENJE ŽIVALI') | (new_df['TipNesrece'] == 'POVOŽENJE PEŠCA') | (new_df['TipNesrece'] == 'ČELNO TRČENJE')\n",
    "new_df.loc[mask, 'TipNesrece_new'] = 'SE PREMIKA'\n",
    "\n",
    "new_df.drop(columns=['TipNesrece'], inplace=True)\n",
    "new_df.rename(columns={'TipNesrece_new': 'TipNesrece'}, inplace=True)\n",
    "\n",
    "# print(\"Unique values in TipNesrece:\", new_df['TipNesrece'].unique())\n",
    "\n",
    "suhoSVC = new_df['StanjeVozisca'].value_counts()['SUHO']\n",
    "drugacnoSVC = new_df['StanjeVozisca'].value_counts()['DRUGACNO']\n",
    "sepremikaTNC = new_df['TipNesrece'].value_counts()['SE PREMIKA']\n",
    "stacionarenTNC = new_df['TipNesrece'].value_counts()['STACIONAREN']\n",
    "\n",
    "print(\"STOJI:\", stacionarenTNC)\n",
    "# print(\"PREMIKA:\", sepremikaTNC)\n",
    "print(\"SUHA:\", suhoSVC)\n",
    "print(\"MOKRA:\", drugacnoSVC)\n",
    "\n",
    "\n",
    "ms = len(new_df[(new_df['StanjeVozisca'] == 'DRUGACNO') & (new_df['TipNesrece'] == 'STACIONAREN')])\n",
    "ss = len(new_df[(new_df['StanjeVozisca'] == 'SUHO') & (new_df['TipNesrece'] == 'STACIONAREN')])\n",
    "# mp = len(new_df[(new_df['StanjeVozisca'] == 'DRUGACNO') & (new_df['TipNesrece'] == 'SE PREMIKA')])\n",
    "# sp = len(new_df[(new_df['StanjeVozisca'] == 'SUHO') & (new_df['TipNesrece'] == 'SE PREMIKA')])\n",
    "\n",
    "print(\"\\nSTOJI & SUHA:\", ss, \"\\nSTOJI & MOKRA:\", ms)\n",
    "\n",
    "r1 = suhoSVC / ss\n",
    "r2 = drugacnoSVC / ms\n",
    "\n",
    "# print(\"\\nRazmerje stoji & suha:\", r1)\n",
    "# print(\"Razmerje stoji & mokra:\", r2)\n",
    "\n",
    "percentage_difference = abs((r1 - r2) / ((r1 + r2) / 2)) * 100\n",
    "\n",
    "print(f\"\\nKarambolov v stacionarne objekte (npr. parkiran avto, stavba, itd.) na mokri cesti je bilo {round(percentage_difference, 4)}% več kot karambolov v stacionarne objekte na suhi cesti.\")"
   ]
  }
 ],
 "metadata": {
  "kernelspec": {
   "display_name": "Python 3 (ipykernel)",
   "language": "python",
   "name": "python3"
  },
  "language_info": {
   "codemirror_mode": {
    "name": "ipython",
    "version": 3
   },
   "file_extension": ".py",
   "mimetype": "text/x-python",
   "name": "python",
   "nbconvert_exporter": "python",
   "pygments_lexer": "ipython3",
   "version": "3.9.12"
  }
 },
 "nbformat": 4,
 "nbformat_minor": 5
}
