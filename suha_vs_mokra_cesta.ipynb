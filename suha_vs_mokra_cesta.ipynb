{
 "cells": [
  {
   "cell_type": "code",
   "execution_count": 10,
   "id": "64a58a18",
   "metadata": {},
   "outputs": [
    {
     "name": "stdout",
     "output_type": "stream",
     "text": [
      "STOJI: 7158\n",
      "SUHA: 22534\n",
      "MOKRA: 6749\n",
      "\n",
      "STOJI & SUHA: 5444 \n",
      "STOJI & MOKRA: 1714\n",
      "\n",
      "Karambolov v stacionarne objekte (npr. parkiran avto, stavba, itd.) je bilo na mokri (ali poledeneli, poškodovani) cesti 4.9936% več kot karambolov v stacionarne objekte na suhi (nepoškodovani) cesti.\n"
     ]
    }
   ],
   "source": [
    "import pandas as pd\n",
    "\n",
    "faktor_cest = pd.read_csv('./baze/manjse/FaktorCest.csv')\n",
    "nesreca = pd.read_csv('./baze/manjse/Nesreca.csv')\n",
    "\n",
    "\n",
    "df = pd.merge(faktor_cest, nesreca[['ZaporednaStevilkaOsebeVPN', 'TipNesrece']], on='ZaporednaStevilkaOsebeVPN')\n",
    "\n",
    "df = df[['StanjeVozisca', 'TipNesrece']]\n",
    "\n",
    "# odstrani vozisca in tipe nesrec v neznanem stanju\n",
    "df = df.loc[df['StanjeVozisca'] != 'OSTALO']\n",
    "df = df.loc[df['TipNesrece'] != 'OSTALO']\n",
    "# print(\"Unique values in StanjeVozisca:\", df['StanjeVozisca'].unique())\n",
    "# print(\"\\nUnique values in TipNesrece:\", df['TipNesrece'].unique())\n",
    "\n",
    "# obdrži vrstice s StanjeVozisca = SUHO, ostale pa preimenuj v DRUGACNO\n",
    "df.loc[df['StanjeVozisca'] != 'SUHO', 'StanjeVozisca'] = 'DRUGACNO'\n",
    "\n",
    "df['TipNesrece_new'] = 'SE PREMIKA'\n",
    "mask = (df['TipNesrece'] == 'TRČENJE V STOJEČE / PARKIRANO VOZILO') | (df['TipNesrece'] == 'TRČENJE V OBJEKT')\n",
    "df.loc[mask, 'TipNesrece_new'] = 'STACIONAREN'\n",
    "\n",
    "mask = (df['TipNesrece'] == 'BOČNO TRČENJE') | (df['TipNesrece'] == 'OPLAŽENJE') | (df['TipNesrece'] == 'NALETNO TRČENJE') | (df['TipNesrece'] == 'POVOŽENJE ŽIVALI') | (df['TipNesrece'] == 'POVOŽENJE PEŠCA') | (df['TipNesrece'] == 'ČELNO TRČENJE')\n",
    "df.loc[mask, 'TipNesrece_new'] = 'SE PREMIKA'\n",
    "\n",
    "df.drop(columns=['TipNesrece'], inplace=True)\n",
    "df.rename(columns={'TipNesrece_new': 'TipNesrece'}, inplace=True)\n",
    "\n",
    "# print(\"Unique values in StanjeVozisca:\", df['StanjeVozisca'].unique())\n",
    "# print(\"Unique values in TipNesrece:\", df['TipNesrece'].unique())\n",
    "\n",
    "suhoSVC = df['StanjeVozisca'].value_counts()['SUHO']\n",
    "drugacnoSVC = df['StanjeVozisca'].value_counts()['DRUGACNO']\n",
    "sepremikaTNC = df['TipNesrece'].value_counts()['SE PREMIKA']\n",
    "stacionarenTNC = df['TipNesrece'].value_counts()['STACIONAREN']\n",
    "\n",
    "print(\"STOJI:\", stacionarenTNC)\n",
    "# print(\"PREMIKA:\", sepremikaTNC)\n",
    "print(\"SUHA:\", suhoSVC)\n",
    "print(\"MOKRA:\", drugacnoSVC)\n",
    "\n",
    "\n",
    "ms = len(df[(df['StanjeVozisca'] == 'DRUGACNO') & (df['TipNesrece'] == 'STACIONAREN')])\n",
    "ss = len(df[(df['StanjeVozisca'] == 'SUHO') & (df['TipNesrece'] == 'STACIONAREN')])\n",
    "# mp = len(df[(df['StanjeVozisca'] == 'DRUGACNO') & (df['TipNesrece'] == 'SE PREMIKA')])\n",
    "# sp = len(df[(df['StanjeVozisca'] == 'SUHO') & (df['TipNesrece'] == 'SE PREMIKA')])\n",
    "\n",
    "print(\"\\nSTOJI & SUHA:\", ss, \"\\nSTOJI & MOKRA:\", ms)\n",
    "\n",
    "r1 = suhoSVC / ss\n",
    "r2 = drugacnoSVC / ms\n",
    "\n",
    "# print(\"\\nRazmerje stoji & suha:\", r1)\n",
    "# print(\"Razmerje stoji & mokra:\", r2)\n",
    "\n",
    "percentage_difference = abs((r1 - r2) / ((r1 + r2) / 2)) * 100\n",
    "\n",
    "print(f\"\\nKarambolov v stacionarne objekte (npr. parkiran avto, stavba, itd.) je bilo na mokri (ali poledeneli, poškodovani) cesti {round(percentage_difference, 4)}% več kot karambolov v stacionarne objekte na suhi (nepoškodovani) cesti.\")"
   ]
  }
 ],
 "metadata": {
  "kernelspec": {
   "display_name": "Python 3 (ipykernel)",
   "language": "python",
   "name": "python3"
  },
  "language_info": {
   "codemirror_mode": {
    "name": "ipython",
    "version": 3
   },
   "file_extension": ".py",
   "mimetype": "text/x-python",
   "name": "python",
   "nbconvert_exporter": "python",
   "pygments_lexer": "ipython3",
   "version": "3.9.12"
  }
 },
 "nbformat": 4,
 "nbformat_minor": 5
}
